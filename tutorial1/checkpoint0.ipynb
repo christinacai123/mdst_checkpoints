{
 "cells": [
  {
   "cell_type": "markdown",
   "id": "bc2f6222",
   "metadata": {},
   "source": [
    "These exercises are not required to complete however are good to do for practice. (Not to be submitted on git)\n",
    "\n",
    "These exercises are a mix of Python and pandas/EDA practice. Most should be no more than a few lines of code! "
   ]
  },
  {
   "cell_type": "markdown",
   "id": "dc0ce808",
   "metadata": {
    "colab_type": "text",
    "id": "0a8IYAJUshu1"
   },
   "source": [
    "# Exercises (Optional)"
   ]
  },
  {
   "cell_type": "code",
   "execution_count": 24,
   "id": "a0ccedc4",
   "metadata": {
    "colab": {},
    "colab_type": "code",
    "id": "Jo6wuTgkshu1"
   },
   "outputs": [
    {
     "data": {
      "text/plain": [
       "[1, 4, 9, 16, 25, 36]"
      ]
     },
     "execution_count": 24,
     "metadata": {},
     "output_type": "execute_result"
    }
   ],
   "source": [
    "# here is a Python list:\n",
    "\n",
    "a = [1, 2, 3, 4, 5, 6]\n",
    "\n",
    "# get a list containing the last 3 elements of a\n",
    "a[3:6]\n",
    "# reverse the list\n",
    "a.reverse()\n",
    "# get a list where each entry in a is squared (so the new list is [1, 4, 9, 16, 25, 36])\n",
    "new = [x**2 for x in a]\n",
    "new.reverse()\n",
    "new"
   ]
  },
  {
   "cell_type": "code",
   "execution_count": 37,
   "id": "ad6c02ae",
   "metadata": {
    "colab": {},
    "colab_type": "code",
    "id": "qANtg5kQshu2"
   },
   "outputs": [],
   "source": [
    "# create a numpy array from this list\n",
    "import numpy as np\n",
    "a.reverse\n",
    "b = np.array(a)"
   ]
  },
  {
   "cell_type": "code",
   "execution_count": 38,
   "id": "36bbf183",
   "metadata": {
    "colab": {},
    "colab_type": "code",
    "id": "91CXRflLshu4"
   },
   "outputs": [
    {
     "data": {
      "text/plain": [
       "3.5"
      ]
     },
     "execution_count": 38,
     "metadata": {},
     "output_type": "execute_result"
    }
   ],
   "source": [
    "# find the mean of b\n",
    "np.mean(b)"
   ]
  },
  {
   "cell_type": "code",
   "execution_count": 40,
   "id": "9abbe4d4",
   "metadata": {
    "colab": {},
    "colab_type": "code",
    "id": "ZJZFwzQfshu9"
   },
   "outputs": [
    {
     "data": {
      "text/plain": [
       "array([36, 25, 16,  9,  4,  1])"
      ]
     },
     "execution_count": 40,
     "metadata": {},
     "output_type": "execute_result"
    }
   ],
   "source": [
    "# get a list where each entry in b is squared (so the new numpy array is [1, 4, 9, 16, 25, 36])\n",
    "# use a different (numpy-specific) approach\n",
    "np.square(b)"
   ]
  },
  {
   "cell_type": "code",
   "execution_count": 67,
   "id": "0ac08cda",
   "metadata": {
    "colab": {},
    "colab_type": "code",
    "id": "ajbA5rCCshu5"
   },
   "outputs": [
    {
     "data": {
      "text/plain": [
       "array([[1, 2, 3],\n",
       "       [4, 5, 6]])"
      ]
     },
     "execution_count": 67,
     "metadata": {},
     "output_type": "execute_result"
    }
   ],
   "source": [
    "# change b from a length-6 list to a 2x3 matrix\n",
    "import numpy as np\n",
    "a = [1,2,3,4,5,6]\n",
    "b = np.array(a)\n",
    "m = b.reshape(2, 3)\n",
    "m\n"
   ]
  },
  {
   "cell_type": "code",
   "execution_count": 72,
   "id": "d8840efb",
   "metadata": {
    "colab": {},
    "colab_type": "code",
    "id": "wancU_PWshu6"
   },
   "outputs": [
    {
     "data": {
      "text/plain": [
       "[2.0, 5.0]"
      ]
     },
     "execution_count": 72,
     "metadata": {},
     "output_type": "execute_result"
    }
   ],
   "source": [
    "# find the mean value of each row\n",
    "[np.mean(row) for row in m]"
   ]
  },
  {
   "cell_type": "code",
   "execution_count": 75,
   "id": "d47d0f95",
   "metadata": {
    "colab": {},
    "colab_type": "code",
    "id": "N3hXBrBtshu7"
   },
   "outputs": [
    {
     "data": {
      "text/plain": [
       "[2.5, 3.5, 4.5]"
      ]
     },
     "execution_count": 75,
     "metadata": {},
     "output_type": "execute_result"
    }
   ],
   "source": [
    "# find the mean value of each column\n",
    "[np.mean([row[icol] for row in m]) for icol in range(len(m[0]))]"
   ]
  },
  {
   "cell_type": "code",
   "execution_count": 79,
   "id": "81e2d66d",
   "metadata": {
    "colab": {},
    "colab_type": "code",
    "id": "GvbO8gBXshu8"
   },
   "outputs": [
    {
     "name": "stdout",
     "output_type": "stream",
     "text": [
      "3\n",
      "6\n"
     ]
    }
   ],
   "source": [
    "# find the third column of b\n",
    "for row in range(len(m)):\n",
    "    print(m[row][2])"
   ]
  },
  {
   "cell_type": "code",
   "execution_count": 81,
   "id": "4bab700d",
   "metadata": {
    "colab": {},
    "colab_type": "code",
    "id": "WzCQ5HOJshvA"
   },
   "outputs": [],
   "source": [
    "# load in the \"starbucks.csv\" dataset\n",
    "import pandas as pd\n",
    "df = pd.read_csv(\"../data/starbucks.csv\")"
   ]
  },
  {
   "cell_type": "code",
   "execution_count": 82,
   "id": "25345b55",
   "metadata": {
    "colab": {},
    "colab_type": "code",
    "id": "rIoxaSxHshvB"
   },
   "outputs": [
    {
     "data": {
      "text/plain": [
       "193.87190082644628"
      ]
     },
     "execution_count": 82,
     "metadata": {},
     "output_type": "execute_result"
    }
   ],
   "source": [
    "# this is nutritional info for starbucks items\n",
    "# let's see if we can answer some questions\n",
    "\n",
    "# what is the average # calories across all items?\n",
    "df[\"calories\"].mean()"
   ]
  },
  {
   "cell_type": "code",
   "execution_count": 87,
   "id": "bce50312",
   "metadata": {
    "colab": {},
    "colab_type": "code",
    "id": "ABX7i49FshvD"
   },
   "outputs": [
    {
     "data": {
      "text/plain": [
       "33"
      ]
     },
     "execution_count": 87,
     "metadata": {},
     "output_type": "execute_result"
    }
   ],
   "source": [
    "# how many different categories of beverages are there?\n",
    "len(df[\"beverage\"].unique())"
   ]
  },
  {
   "cell_type": "code",
   "execution_count": 97,
   "id": "f4ec54f2",
   "metadata": {
    "colab": {},
    "colab_type": "code",
    "id": "P9QatZAzshvE"
   },
   "outputs": [
    {
     "data": {
      "text/plain": [
       "beverage_category\n",
       "classic espresso drinks             140.172414\n",
       "coffee                                4.250000\n",
       "frappuccino blended coffee          276.944444\n",
       "frappuccino blended crme            233.076923\n",
       "frappuccino light blended coffee    162.500000\n",
       "shaken iced beverages               114.444444\n",
       "signature espresso drinks           250.000000\n",
       "smoothies                           282.222222\n",
       "tazo tea drinks                     177.307692\n",
       "Name: calories, dtype: float64"
      ]
     },
     "execution_count": 97,
     "metadata": {},
     "output_type": "execute_result"
    }
   ],
   "source": [
    "# what is the average # calories for each beverage category?\n",
    "\n",
    "mfrs = df.groupby(\"beverage_category\")\n",
    "mfrs[\"calories\"].mean()        "
   ]
  },
  {
   "cell_type": "code",
   "execution_count": 125,
   "id": "6d5e8e92",
   "metadata": {
    "colab": {},
    "colab_type": "code",
    "id": "y8KEpYNkshvG"
   },
   "outputs": [
    {
     "data": {
      "text/plain": [
       "beverage_prep\n",
       "Whole Milk            55.687500\n",
       "Venti Nonfat Milk     50.045455\n",
       "Grande Nonfat Milk    38.615385\n",
       "Soymilk               31.848485\n",
       "2% Milk               30.980000\n",
       "Tall Nonfat Milk      28.521739\n",
       "Venti                 27.714286\n",
       "Grande                20.000000\n",
       "Short Nonfat Milk     17.000000\n",
       "Tall                  14.714286\n",
       "Short                  8.250000\n",
       "Doppio                 0.000000\n",
       "Solo                   0.000000\n",
       "Name: sugars, dtype: float64"
      ]
     },
     "execution_count": 125,
     "metadata": {},
     "output_type": "execute_result"
    }
   ],
   "source": [
    "# what beverage preparation includes the most sugar on average?\n",
    "\n",
    "mfrs = df.groupby(\"beverage_prep\")[\"sugars\"].mean()\n",
    "mfrs.sort_values(ascending=False)\n"
   ]
  },
  {
   "cell_type": "code",
   "execution_count": 131,
   "id": "5a3878c1",
   "metadata": {
    "colab": {},
    "colab_type": "code",
    "id": "MnbCEJw8shvH"
   },
   "outputs": [
    {
     "data": {
      "text/plain": [
       "beverage\n",
       "banana chocolate smoothie                             15.384615\n",
       "brewed coffee                                          0.384615\n",
       "caff americano                                         1.153846\n",
       "caff latte                                            26.923077\n",
       "caff mocha (without whipped cream)                    23.076923\n",
       "cappuccino                                            17.307692\n",
       "caramel                                                8.461538\n",
       "caramel (without whipped cream)                        9.230769\n",
       "caramel apple spice (without whipped cream)            0.000000\n",
       "caramel macchiato                                     21.794872\n",
       "coffee                                                 9.487179\n",
       "espresso                                               0.000000\n",
       "hot chocolate (without whipped cream)                 26.923077\n",
       "iced brewed coffee (with classic syrup)                0.000000\n",
       "iced brewed coffee (with milk  classic syrup)          6.153846\n",
       "java chip                                              8.974359\n",
       "java chip (without whipped cream)                      9.658120\n",
       "mocha                                                  8.461538\n",
       "mocha (without whipped cream)                          9.230769\n",
       "orange mango banana smoothie                           7.692308\n",
       "shaken iced tazo tea (with classic syrup)              0.000000\n",
       "shaken iced tazo tea lemonade (with classic syrup)     0.000000\n",
       "skinny latte (any flavour)                            25.961538\n",
       "strawberries  crme (without whipped cream)            11.538462\n",
       "strawberry banana smoothie                             7.692308\n",
       "tazo chai tea latte                                   16.666667\n",
       "tazo fullleaf red tea latte (vanilla rooibos)         16.025641\n",
       "tazo fullleaf tea latte                               16.025641\n",
       "tazo green tea latte                                  30.128205\n",
       "tazo tea                                               0.000000\n",
       "vanilla bean (without whipped cream)                   8.653846\n",
       "vanilla latte (or other flavoured latte)              25.320513\n",
       "white chocolate mocha (without whipped cream)         31.730769\n",
       "Name: calcium, dtype: float64"
      ]
     },
     "execution_count": 131,
     "metadata": {},
     "output_type": "execute_result"
    }
   ],
   "source": [
    "# what is the average % daily value calcium content for each beverage?\n",
    "\n",
    "mfrs = df.groupby(\"beverage\")[\"calcium\"].mean()\n",
    "mfrs/1.3"
   ]
  },
  {
   "cell_type": "code",
   "execution_count": 162,
   "id": "1760e8b5",
   "metadata": {
    "colab": {},
    "colab_type": "code",
    "id": "Nv5dksj_shvJ",
    "scrolled": true
   },
   "outputs": [
    {
     "data": {
      "text/html": [
       "<div>\n",
       "<style scoped>\n",
       "    .dataframe tbody tr th:only-of-type {\n",
       "        vertical-align: middle;\n",
       "    }\n",
       "\n",
       "    .dataframe tbody tr th {\n",
       "        vertical-align: top;\n",
       "    }\n",
       "\n",
       "    .dataframe thead th {\n",
       "        text-align: right;\n",
       "    }\n",
       "</style>\n",
       "<table border=\"1\" class=\"dataframe\">\n",
       "  <thead>\n",
       "    <tr style=\"text-align: right;\">\n",
       "      <th></th>\n",
       "      <th>beverage_category</th>\n",
       "      <th>beverage</th>\n",
       "      <th>beverage_prep</th>\n",
       "      <th>calories</th>\n",
       "      <th>total fat</th>\n",
       "      <th>trans fat</th>\n",
       "      <th>saturated fat</th>\n",
       "      <th>sodium</th>\n",
       "      <th>total carbohydrates</th>\n",
       "      <th>cholesterol</th>\n",
       "      <th>dietary fibre</th>\n",
       "      <th>sugars</th>\n",
       "      <th>protein</th>\n",
       "      <th>vitamin a</th>\n",
       "      <th>vitamin c</th>\n",
       "      <th>calcium</th>\n",
       "      <th>iron</th>\n",
       "      <th>caffeine</th>\n",
       "      <th>Difference</th>\n",
       "    </tr>\n",
       "  </thead>\n",
       "  <tbody>\n",
       "    <tr>\n",
       "      <th>0</th>\n",
       "      <td>coffee</td>\n",
       "      <td>brewed coffee</td>\n",
       "      <td>Short</td>\n",
       "      <td>3</td>\n",
       "      <td>0.1</td>\n",
       "      <td>0.0</td>\n",
       "      <td>0.0</td>\n",
       "      <td>0</td>\n",
       "      <td>5</td>\n",
       "      <td>0</td>\n",
       "      <td>0</td>\n",
       "      <td>0</td>\n",
       "      <td>0.3</td>\n",
       "      <td>0</td>\n",
       "      <td>0</td>\n",
       "      <td>0</td>\n",
       "      <td>0.0</td>\n",
       "      <td>175.0</td>\n",
       "      <td>-2.7</td>\n",
       "    </tr>\n",
       "    <tr>\n",
       "      <th>1</th>\n",
       "      <td>coffee</td>\n",
       "      <td>brewed coffee</td>\n",
       "      <td>Tall</td>\n",
       "      <td>4</td>\n",
       "      <td>0.1</td>\n",
       "      <td>0.0</td>\n",
       "      <td>0.0</td>\n",
       "      <td>0</td>\n",
       "      <td>10</td>\n",
       "      <td>0</td>\n",
       "      <td>0</td>\n",
       "      <td>0</td>\n",
       "      <td>0.5</td>\n",
       "      <td>0</td>\n",
       "      <td>0</td>\n",
       "      <td>0</td>\n",
       "      <td>0.0</td>\n",
       "      <td>260.0</td>\n",
       "      <td>-3.5</td>\n",
       "    </tr>\n",
       "    <tr>\n",
       "      <th>2</th>\n",
       "      <td>coffee</td>\n",
       "      <td>brewed coffee</td>\n",
       "      <td>Grande</td>\n",
       "      <td>5</td>\n",
       "      <td>0.1</td>\n",
       "      <td>0.0</td>\n",
       "      <td>0.0</td>\n",
       "      <td>0</td>\n",
       "      <td>10</td>\n",
       "      <td>0</td>\n",
       "      <td>0</td>\n",
       "      <td>0</td>\n",
       "      <td>1.0</td>\n",
       "      <td>0</td>\n",
       "      <td>0</td>\n",
       "      <td>0</td>\n",
       "      <td>0.0</td>\n",
       "      <td>330.0</td>\n",
       "      <td>-4.0</td>\n",
       "    </tr>\n",
       "    <tr>\n",
       "      <th>3</th>\n",
       "      <td>coffee</td>\n",
       "      <td>brewed coffee</td>\n",
       "      <td>Venti</td>\n",
       "      <td>5</td>\n",
       "      <td>0.1</td>\n",
       "      <td>0.0</td>\n",
       "      <td>0.0</td>\n",
       "      <td>0</td>\n",
       "      <td>10</td>\n",
       "      <td>0</td>\n",
       "      <td>0</td>\n",
       "      <td>0</td>\n",
       "      <td>1.0</td>\n",
       "      <td>0</td>\n",
       "      <td>0</td>\n",
       "      <td>2</td>\n",
       "      <td>0.0</td>\n",
       "      <td>410.0</td>\n",
       "      <td>-4.0</td>\n",
       "    </tr>\n",
       "    <tr>\n",
       "      <th>4</th>\n",
       "      <td>classic espresso drinks</td>\n",
       "      <td>caff latte</td>\n",
       "      <td>Short Nonfat Milk</td>\n",
       "      <td>70</td>\n",
       "      <td>0.1</td>\n",
       "      <td>0.1</td>\n",
       "      <td>0.0</td>\n",
       "      <td>5</td>\n",
       "      <td>75</td>\n",
       "      <td>10</td>\n",
       "      <td>0</td>\n",
       "      <td>9</td>\n",
       "      <td>6.0</td>\n",
       "      <td>10</td>\n",
       "      <td>0</td>\n",
       "      <td>20</td>\n",
       "      <td>0.0</td>\n",
       "      <td>75.0</td>\n",
       "      <td>-64.0</td>\n",
       "    </tr>\n",
       "  </tbody>\n",
       "</table>\n",
       "</div>"
      ],
      "text/plain": [
       "         beverage_category       beverage      beverage_prep  calories  \\\n",
       "0                   coffee  brewed coffee              Short         3   \n",
       "1                   coffee  brewed coffee               Tall         4   \n",
       "2                   coffee  brewed coffee             Grande         5   \n",
       "3                   coffee  brewed coffee              Venti         5   \n",
       "4  classic espresso drinks     caff latte  Short Nonfat Milk        70   \n",
       "\n",
       "   total fat  trans fat  saturated fat  sodium  total carbohydrates  \\\n",
       "0        0.1        0.0            0.0       0                    5   \n",
       "1        0.1        0.0            0.0       0                   10   \n",
       "2        0.1        0.0            0.0       0                   10   \n",
       "3        0.1        0.0            0.0       0                   10   \n",
       "4        0.1        0.1            0.0       5                   75   \n",
       "\n",
       "   cholesterol  dietary fibre  sugars  protein  vitamin a  vitamin c  calcium  \\\n",
       "0            0              0       0      0.3          0          0        0   \n",
       "1            0              0       0      0.5          0          0        0   \n",
       "2            0              0       0      1.0          0          0        0   \n",
       "3            0              0       0      1.0          0          0        2   \n",
       "4           10              0       9      6.0         10          0       20   \n",
       "\n",
       "   iron  caffeine  Difference  \n",
       "0   0.0     175.0        -2.7  \n",
       "1   0.0     260.0        -3.5  \n",
       "2   0.0     330.0        -4.0  \n",
       "3   0.0     410.0        -4.0  \n",
       "4   0.0      75.0       -64.0  "
      ]
     },
     "execution_count": 162,
     "metadata": {},
     "output_type": "execute_result"
    }
   ],
   "source": [
    "# It's bulking season. What drink should Naitian get so that he maximizes protein but minimizes calories?\n",
    "# (you can use more than one line for this one)\n",
    "# there are multiple valid approaches you can take for this (with different answers)\n",
    "# I know that you want more calories for bulking season but whatever this is MDST, not Michigan Muscle Club okay\n",
    "\n",
    "df[\"Difference\"] = df[\"protein\"] - df[\"calories\"]\n",
    "mfrs = df.groupby(\"beverage\")\n",
    "mfrs[[\"calories\", \"protein\", \"Difference\"]].agg({\"calories\": \"min\", \"protein\": \"max\", \"Difference\": \"mean\"})\n",
    "df.head()"
   ]
  },
  {
   "cell_type": "code",
   "execution_count": 164,
   "id": "baec8d8a",
   "metadata": {},
   "outputs": [
    {
     "data": {
      "text/plain": [
       "<AxesSubplot:ylabel='Frequency'>"
      ]
     },
     "execution_count": 164,
     "metadata": {},
     "output_type": "execute_result"
    },
    {
     "data": {
      "image/png": "[encoded data removed]",
      "text/plain": [
       "<Figure size 432x288 with 1 Axes>"
      ]
     },
     "metadata": {
      "needs_background": "light"
     },
     "output_type": "display_data"
    }
   ],
   "source": [
    "# plot the distribution of the number of calories in drinks using matplotlib\n",
    "\n",
    "import matplotlib.pyplot as plt\n",
    "\n",
    "df[\"calories\"].plot.hist(bins=len(df[\"beverage\"].unique()))\n",
    "\n"
   ]
  },
  {
   "cell_type": "code",
   "execution_count": 167,
   "id": "7a864cfe",
   "metadata": {},
   "outputs": [
    {
     "data": {
      "text/plain": [
       "<seaborn.axisgrid.FacetGrid at 0x7fbe0c42bf10>"
      ]
     },
     "execution_count": 167,
     "metadata": {},
     "output_type": "execute_result"
    },
    {
     "data": {
      "image/png": "[encoded data removed]",
      "text/plain": [
       "<Figure size 360x360 with 1 Axes>"
      ]
     },
     "metadata": {},
     "output_type": "display_data"
    }
   ],
   "source": [
    "# plot the same distribution using seaborn. what about a density plot instead?\n",
    "\n",
    "import seaborn as sns\n",
    "sns.set()  # sets settings\n",
    "\n",
    "sns.displot(data=df, x=\"calories\", kind=\"kde\")\n"
   ]
  },
  {
   "cell_type": "code",
   "execution_count": 171,
   "id": "c7575837",
   "metadata": {},
   "outputs": [
    {
     "data": {
      "text/plain": [
       "<seaborn.axisgrid.JointGrid at 0x7fbdb501ef70>"
      ]
     },
     "execution_count": 171,
     "metadata": {},
     "output_type": "execute_result"
    },
    {
     "data": {
      "image/png": "[encoded data removed]",
      "text/plain": [
       "<Figure size 432x432 with 3 Axes>"
      ]
     },
     "metadata": {},
     "output_type": "display_data"
    }
   ],
   "source": [
    "# plot calories against total fat using seaborn\n",
    "\n",
    "sns.jointplot(data=df, x=\"total fat\", y=\"calories\", kind=\"kde\")\n"
   ]
  },
  {
   "cell_type": "code",
   "execution_count": 181,
   "id": "3f530953",
   "metadata": {},
   "outputs": [
    {
     "data": {
      "text/plain": [
       "array([[<AxesSubplot:title={'center':'2% Milk'}>,\n",
       "        <AxesSubplot:title={'center':'Doppio'}>,\n",
       "        <AxesSubplot:title={'center':'Grande'}>,\n",
       "        <AxesSubplot:title={'center':'Grande Nonfat Milk'}>],\n",
       "       [<AxesSubplot:title={'center':'Short'}>,\n",
       "        <AxesSubplot:title={'center':'Short Nonfat Milk'}>,\n",
       "        <AxesSubplot:title={'center':'Solo'}>,\n",
       "        <AxesSubplot:title={'center':'Soymilk'}>],\n",
       "       [<AxesSubplot:title={'center':'Tall'}>,\n",
       "        <AxesSubplot:title={'center':'Tall Nonfat Milk'}>,\n",
       "        <AxesSubplot:title={'center':'Venti'}>,\n",
       "        <AxesSubplot:title={'center':'Venti Nonfat Milk'}>],\n",
       "       [<AxesSubplot:title={'center':'Whole Milk'}>, <AxesSubplot:>,\n",
       "        <AxesSubplot:>, <AxesSubplot:>]], dtype=object)"
      ]
     },
     "execution_count": 181,
     "metadata": {},
     "output_type": "execute_result"
    },
    {
     "data": {
      "image/png": "[encoded data removed]",
      "text/plain": [
       "<Figure size 720x720 with 16 Axes>"
      ]
     },
     "metadata": {},
     "output_type": "display_data"
    }
   ],
   "source": [
    "# plot the distribution of calories in Short, Tall, Grande, and Venti drinks\n",
    "# (you can use multiple lines for this)\n",
    "# twist: you should also include the Nonfat Milk drinks that also have an associated size.\n",
    "\n",
    "# you can decide how you want to visualize this. Colors? Small multiples? Density vs histogram?\n",
    "# the starbucks is your oyster.\n",
    "\n",
    "df[\"calories\"].hist(by=df[\"beverage_prep\"], figsize=(10,10))\n"
   ]
  },
  {
   "cell_type": "code",
   "execution_count": null,
   "id": "f611797e",
   "metadata": {},
   "outputs": [],
   "source": []
  }
 ],
 "metadata": {
  "kernelspec": {
   "display_name": "Python 3 (ipykernel)",
   "language": "python",
   "name": "python3"
  },
  "language_info": {
   "codemirror_mode": {
    "name": "ipython",
    "version": 3
   },
   "file_extension": ".py",
   "mimetype": "text/x-python",
   "name": "python",
   "nbconvert_exporter": "python",
   "pygments_lexer": "ipython3",
   "version": "3.8.5"
  }
 },
 "nbformat": 4,
 "nbformat_minor": 5
}
